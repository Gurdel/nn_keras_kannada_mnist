{
 "metadata": {
  "language_info": {
   "codemirror_mode": {
    "name": "ipython",
    "version": 3
   },
   "file_extension": ".py",
   "mimetype": "text/x-python",
   "name": "python",
   "nbconvert_exporter": "python",
   "pygments_lexer": "ipython3",
   "version": "3.8.5-final"
  },
  "orig_nbformat": 2,
  "kernelspec": {
   "name": "python3",
   "display_name": "Python 3",
   "language": "python"
  }
 },
 "nbformat": 4,
 "nbformat_minor": 2,
 "cells": [
  {
   "cell_type": "code",
   "execution_count": 15,
   "metadata": {},
   "outputs": [
    {
     "output_type": "stream",
     "name": "stdout",
     "text": [
      "(60000, 784) (60000, 10) (5000, 784)\n"
     ]
    }
   ],
   "source": [
    "import pandas as pd\n",
    "from keras.utils import np_utils\n",
    "df = pd.read_csv('train.csv')\n",
    "X_train = df.drop(columns=['label'])\n",
    "X_train = X_train.values\n",
    "y_train = df['label']\n",
    "y_train = np_utils.to_categorical(y_train, 10)\n",
    "df = pd.read_csv('test.csv')\n",
    "X_test = df.drop(columns=['id'])\n",
    "X_test = X_test.values\n",
    "test_id = df['id']\n",
    "print(X_train.shape, y_train.shape, X_test.shape)"
   ]
  },
  {
   "cell_type": "code",
   "execution_count": 20,
   "metadata": {},
   "outputs": [
    {
     "output_type": "stream",
     "name": "stdout",
     "text": [
      "(60000, 784) (5000, 784)\n"
     ]
    }
   ],
   "source": [
    "num = 28\n",
    "X_train = X_train.reshape((-1, 28*28)).astype('float32') / 255.0\n",
    "X_test = X_test.reshape((-1, 28*28)).astype('float32') / 255.0\n",
    "print(X_train.shape, X_test.shape)"
   ]
  },
  {
   "cell_type": "code",
   "execution_count": 21,
   "metadata": {},
   "outputs": [],
   "source": [
    "import keras\n",
    "model = keras.Sequential([\n",
    "    keras.Input(shape=(784)),\n",
    "    keras.layers.Dense(128, activation='relu'),\n",
    "    keras.layers.Dense(10, activation='softmax')\n",
    "])"
   ]
  },
  {
   "cell_type": "code",
   "execution_count": 22,
   "metadata": {},
   "outputs": [],
   "source": [
    "model.compile(loss='categorical_crossentropy', optimizer='sgd', metrics=['accuracy'])"
   ]
  },
  {
   "cell_type": "code",
   "execution_count": 23,
   "metadata": {},
   "outputs": [
    {
     "output_type": "stream",
     "name": "stdout",
     "text": [
      "Epoch 1/10\n",
      "1875/1875 [==============================] - 1s 763us/step - loss: 0.5886 - accuracy: 0.8730\n",
      "Epoch 2/10\n",
      "1875/1875 [==============================] - 1s 778us/step - loss: 0.2097 - accuracy: 0.9458\n",
      "Epoch 3/10\n",
      "1875/1875 [==============================] - 1s 783us/step - loss: 0.1684 - accuracy: 0.9540\n",
      "Epoch 4/10\n",
      "1875/1875 [==============================] - 1s 764us/step - loss: 0.1486 - accuracy: 0.9589\n",
      "Epoch 5/10\n",
      "1875/1875 [==============================] - 1s 790us/step - loss: 0.1359 - accuracy: 0.9618\n",
      "Epoch 6/10\n",
      "1875/1875 [==============================] - 2s 809us/step - loss: 0.1269 - accuracy: 0.9644\n",
      "Epoch 7/10\n",
      "1875/1875 [==============================] - 2s 806us/step - loss: 0.1197 - accuracy: 0.9665\n",
      "Epoch 8/10\n",
      "1875/1875 [==============================] - 2s 804us/step - loss: 0.1138 - accuracy: 0.9675\n",
      "Epoch 9/10\n",
      "1875/1875 [==============================] - 1s 769us/step - loss: 0.1087 - accuracy: 0.9691\n",
      "Epoch 10/10\n",
      "1875/1875 [==============================] - 1s 765us/step - loss: 0.1040 - accuracy: 0.9701\n"
     ]
    },
    {
     "output_type": "execute_result",
     "data": {
      "text/plain": [
       "<tensorflow.python.keras.callbacks.History at 0x231f52fbbb0>"
      ]
     },
     "metadata": {},
     "execution_count": 23
    }
   ],
   "source": [
    "model.fit(X_train, y_train, epochs=10)"
   ]
  },
  {
   "cell_type": "code",
   "execution_count": null,
   "metadata": {},
   "outputs": [],
   "source": []
  }
 ]
}